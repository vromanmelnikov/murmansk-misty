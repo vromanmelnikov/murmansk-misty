{
 "cells": [
  {
   "cell_type": "code",
   "execution_count": 25,
   "metadata": {},
   "outputs": [
    {
     "name": "stdout",
     "output_type": "stream",
     "text": [
      "{'id': [64, 16, 14, 20, 48, 59, 10, 8, 52, 66, 31, 23, 5, 39, 56, 33, 9, 63, 29, 57, 50, 62, 53, 21, 65, 68, 15, 58, 30, 22, 60, 67, 36, 32, 19, 24, 26, 44, 28, 46, 61, 17, 25, 42, 43, 54, 37, 27, 49, 45, 34, 35, 51, 40, 18, 38, 55, 41, 47, 11], 'name': ['SSD-накопитель Samsung 970 EVO Plus', 'TechnoGrand Smart Watch x7 pro', 'Xiaomi Redmi Note 12S 8', 'Английский язык. Контрольные задания. 7 класс. ФГОС / Английский в фокусе. Spotlight / Просвещение', 'Букет из красных роз', 'Видеокарта NVIDIA GeForce RTX 3080', 'Гантели Reebok Rubber Hex Dumbbells', \"Горный Велосипед Scott Scale 970 29'' 2023 dark grey (L), 29, 2023\", \"Картофель 'Ред Скарлет'\", 'Клавиатура Logitech G915 TKL', 'Комплект стульев _SOKOLTEC_HW900_, 4 шт. Белый.', 'Крестик Серебро 925 Золочение Распятие Молитва Да воскреснет Бог ', 'Кроссовки Nike Air Max 270', \"Круиз 'Карибское море' (эконом)\", \"Курица 'Домашняя'\", \"Куртка 'Спортивный стиль'. Синий S\", 'Лыжи Fischer RCS Carbonlite Skate Plus', 'Маршрутизатор ASUS RT-AX88U', 'Матрас ASKONA Forma Акция серия Balance, Независимые пружины, 120х200 см ', \"Мед 'Алтайский'\", 'Молоко Домик в деревне 3,2%', 'Монитор Dell UltraSharp U2720Q', \"Мясо говядины 'Ангус'\", 'На одной волне со Вселенной. Живая психология и немножечко чудес. О тебе, об отношениях и о том, как прекратить играть в прятки со счастьем.Краткое', 'Наушники Sony WH-1000XM4', 'Ноутбук ASUS ROG Zephyrus M16', 'Ноутбук F+ FLAPTOP R-series AMD Ryzen 3', 'Ноутбук HP Pavilion x360', 'Обувница для прихожей, этажерка для обуви 3 яруса', 'Обучающие лабиринты. Сложение и вычитание. 8-9 лет. Краткое', 'Оперативная память Corsair Vengeance LPX', 'Оперативная память Kingston HyperX Fury DDR4 16GB', \"Пицца 'Маргарита'(30 см)\", \"Платье 'Вечерний шик'.S\", 'Подбор запчастей', 'Подвеска Амулет Оберег Зеркало МАЛЕНЬКАЯ Серебро 925 с Золочением Магазин ЖюТе 925', 'Пошив одежды. Куркта ', \"Препарат 'Цитрамон'(стандарт)\", 'Приём у терапевта ', 'Прическа мужская', 'Процессор Intel Core i9-11900K', 'Ремонтный полупорог левый на Toyota Corolla E120 E130 2000-2007', 'Ремонт одежды. Штаны', 'Ремонт плит (стандарт)', 'Ремонт холодильников (стандарт)', \"Рис 'Басмати'\", \"Роллы 'Филадельфия' (8 штук)\", 'Сдача анализов. Кровь ', 'Синий трактор на колесах', \"Строительная компания 'Молоток'(баня)\", \"Сумка 'Городская жизнь'. Искусственная кожа коричневый\", 'Сфотографировать для фото.', \"Сыр Российский 'Веселый молочник'\", 'Техническое обслуживание (стандарт)', 'Тряпка из микрофибры и замши для автомобиля', \"Тур 'Париж и его красоты' (стандарт)\", \"Хлеб 'Бородинский'\", 'Шиномонтаж (стандарт)', 'Шоколад Alpen Gold с фундуком', 'Штанга Champion Power Bar'], 'price': [0.08680042850111468, 0.009409652856191551, 0.11291583427429862, 0.0032832450273603754, 0.0005501027823619676, 0.5789976548249804, 0.018819305712383102, 0.37638611424766205, 0.00037638611424766204, 0.11575320652016562, 0.01968788905295463, 0.007889632010191378, 0.0593531949390544, 1.0, 0.002026694461333565, 0.013897333449144445, 0.3184805582095602, 0.17365876255826745, 0.05414169489562524, 0.0028952778019050926, 0.0004921972263238658, 0.28946987463447116, 0.009264888966096297, 0.0035959350299661253, 0.17365876255826745, 0.49219722632386576, 0.2750513911809838, 0.376328208691624, 0.006659138944381714, 0.0013086655664611019, 0.159182373548742, 0.03184805582095602, 0.0034164278062480094, 0.04429775036914792, 0.007238194504762732, 0.004806161151162454, 0.055010278236196766, 0.0022583166854859725, 0.008685833405715278, 0.004864066707200556, 0.40528098671067486, 0.009409652856191551, 0.005501027823619676, 0.032977214163699003, 0.032977214163699003, 0.0013028750108572918, 0.0034164278062480094, 0.007238194504762732, 0.0011581111207620372, 0.7547410174006196, 0.016792611251049538, 0.0028952778019050926, 0.0018819305712383103, 0.04455832537131938, 0.004458727814933843, 0.5657083297142361, 0.0005790555603810186, 0.032977214163699003, 0.0005211500043429167, 0.17371666811430556], 'tags': [[205, 206], [46, 49, 50], [43, 44, 45], [58, 59], [117, 118], [191, 192, 193, 194], [39, 37, 40], [33, 34, 35], [178, 174, 179], [210, 211, 193], [74, 78], [63, 64, 65], [30, 31, 32], [18, 98, 99], [180, 174, 186], [82, 83, 84], [36, 37, 38], [202, 203, 204], [74, 75, 76], [187, 174, 188], [173, 174, 175], [199, 200, 201], [180, 174, 181], [58, 60], [207, 208, 209], [213, 124, 203, 214], [46, 47, 48], [47, 189, 190], [74, 77], [58, 61, 62], [195, 196], [195, 124, 212], [90, 91, 92], [79, 80, 81], [51, 56, 57], [63, 66, 65], [67, 68], [110, 111, 112], [69, 72, 73], [113, 114], [197, 198, 193], [51, 52, 53], [67, 52], [107, 108, 101], [107, 109, 101], [182, 174, 183], [93, 94, 95], [69, 70, 71], [119, 120], [15, 52], [85, 86, 87], [88, 89], [176, 174, 177], [100, 101, 102], [51, 54, 55], [18, 96, 97], [184, 174, 185], [100, 103, 102], [115, 116], [37, 41]], 'is_service': [0, 0, 0, 0, 0, 0, 0, 0, 0, 0, 0, 0, 0, 1, 0, 0, 0, 0, 0, 0, 0, 0, 0, 0, 0, 0, 0, 0, 0, 0, 0, 0, 1, 0, 1, 0, 1, 0, 1, 1, 0, 0, 1, 1, 1, 0, 1, 1, 0, 1, 0, 1, 0, 1, 0, 1, 0, 1, 0, 0]}\n"
     ]
    }
   ],
   "source": [
    "import requests\n",
    "from sklearn.cluster import KMeans\n",
    "import pandas as pd\n",
    "\n",
    "char_codes = {}\n",
    "inc = 0\n",
    "\n",
    "\n",
    "def code(text: str):\n",
    "    global inc\n",
    "    c = char_codes.get(text, None)\n",
    "    if c is None:\n",
    "        char_codes[text] = inc\n",
    "        inc += 1\n",
    "        return char_codes[text]\n",
    "    return c\n",
    "\n",
    "\n",
    "def convert(data: list[dict]):\n",
    "    l = []\n",
    "    for item in data:\n",
    "        for k, v in item.items():\n",
    "            l.append([code(k), code(v)])\n",
    "    return l\n",
    "\n",
    "def load_products():\n",
    "    is_exit = False\n",
    "    data = {\n",
    "        \"id\": [],\n",
    "        \"name\": [],\n",
    "        \"price\": [],\n",
    "        \"tags\": [],\n",
    "        # \"characteristics\": [],\n",
    "        \"is_service\": [],\n",
    "    }\n",
    "    i = 0\n",
    "    while not is_exit:\n",
    "        res = requests.get(\n",
    "            f\"http://46.243.226.43:6100/stores/products/all?offset={i}\"\n",
    "        ).json()\n",
    "        if res.get(\"count\", None) is None:\n",
    "            break\n",
    "        for item in res[\"items\"]:\n",
    "            data[\"id\"].append(item[\"id\"])\n",
    "            data[\"name\"].append(item[\"name\"])\n",
    "            data[\"is_service\"].append(1 if item[\"is_service\"] else 0)\n",
    "            data[\"price\"].append(\n",
    "                item[\"price_info\"][\"price_min\"] + item[\"price_info\"][\"price_max\"]\n",
    "            )\n",
    "            data[\"tags\"].append([tag[\"tag_id\"] for tag in item[\"product_tag_links\"]])\n",
    "            # data[\"characteristics\"].append(convert(item[\"details\"][\"characteristics\"]))\n",
    "        i += 1\n",
    "    max_price = max(data[\"price\"])\n",
    "    data[\"price\"] = [price / max_price for price in data[\"price\"]]\n",
    "    return data\n",
    "\n",
    "\n",
    "data_db= load_products()\n",
    "print(data_db)"
   ]
  },
  {
   "cell_type": "code",
   "execution_count": 26,
   "metadata": {},
   "outputs": [
    {
     "ename": "ValueError",
     "evalue": "setting an array element with a sequence.",
     "output_type": "error",
     "traceback": [
      "\u001b[1;31m---------------------------------------------------------------------------\u001b[0m",
      "\u001b[1;31mTypeError\u001b[0m                                 Traceback (most recent call last)",
      "\u001b[1;31mTypeError\u001b[0m: float() argument must be a string or a real number, not 'list'",
      "\nThe above exception was the direct cause of the following exception:\n",
      "\u001b[1;31mValueError\u001b[0m                                Traceback (most recent call last)",
      "\u001b[1;32mc:\\Users\\mrvay\\Desktop\\Папка\\вуз\\непредметное\\хакатоны\\хакатон_на_севере_кодить\\murmansk-misty-develop\\workdir\\anal.ipynb Cell 2\u001b[0m line \u001b[0;36m1\n\u001b[0;32m      <a href='vscode-notebook-cell:/c%3A/Users/mrvay/Desktop/%D0%9F%D0%B0%D0%BF%D0%BA%D0%B0/%D0%B2%D1%83%D0%B7/%D0%BD%D0%B5%D0%BF%D1%80%D0%B5%D0%B4%D0%BC%D0%B5%D1%82%D0%BD%D0%BE%D0%B5/%D1%85%D0%B0%D0%BA%D0%B0%D1%82%D0%BE%D0%BD%D1%8B/%D1%85%D0%B0%D0%BA%D0%B0%D1%82%D0%BE%D0%BD_%D0%BD%D0%B0_%D1%81%D0%B5%D0%B2%D0%B5%D1%80%D0%B5_%D0%BA%D0%BE%D0%B4%D0%B8%D1%82%D1%8C/murmansk-misty-develop/workdir/anal.ipynb#W1sZmlsZQ%3D%3D?line=7'>8</a>\u001b[0m kmeans \u001b[39m=\u001b[39m KMeans(n_clusters\u001b[39m=\u001b[39m\u001b[39m3\u001b[39m)\n\u001b[0;32m     <a href='vscode-notebook-cell:/c%3A/Users/mrvay/Desktop/%D0%9F%D0%B0%D0%BF%D0%BA%D0%B0/%D0%B2%D1%83%D0%B7/%D0%BD%D0%B5%D0%BF%D1%80%D0%B5%D0%B4%D0%BC%D0%B5%D1%82%D0%BD%D0%BE%D0%B5/%D1%85%D0%B0%D0%BA%D0%B0%D1%82%D0%BE%D0%BD%D1%8B/%D1%85%D0%B0%D0%BA%D0%B0%D1%82%D0%BE%D0%BD_%D0%BD%D0%B0_%D1%81%D0%B5%D0%B2%D0%B5%D1%80%D0%B5_%D0%BA%D0%BE%D0%B4%D0%B8%D1%82%D1%8C/murmansk-misty-develop/workdir/anal.ipynb#W1sZmlsZQ%3D%3D?line=9'>10</a>\u001b[0m \u001b[39m# Обучение модели на выбранных признаках\u001b[39;00m\n\u001b[1;32m---> <a href='vscode-notebook-cell:/c%3A/Users/mrvay/Desktop/%D0%9F%D0%B0%D0%BF%D0%BA%D0%B0/%D0%B2%D1%83%D0%B7/%D0%BD%D0%B5%D0%BF%D1%80%D0%B5%D0%B4%D0%BC%D0%B5%D1%82%D0%BD%D0%BE%D0%B5/%D1%85%D0%B0%D0%BA%D0%B0%D1%82%D0%BE%D0%BD%D1%8B/%D1%85%D0%B0%D0%BA%D0%B0%D1%82%D0%BE%D0%BD_%D0%BD%D0%B0_%D1%81%D0%B5%D0%B2%D0%B5%D1%80%D0%B5_%D0%BA%D0%BE%D0%B4%D0%B8%D1%82%D1%8C/murmansk-misty-develop/workdir/anal.ipynb#W1sZmlsZQ%3D%3D?line=10'>11</a>\u001b[0m kmeans\u001b[39m.\u001b[39;49mfit(X)\n\u001b[0;32m     <a href='vscode-notebook-cell:/c%3A/Users/mrvay/Desktop/%D0%9F%D0%B0%D0%BF%D0%BA%D0%B0/%D0%B2%D1%83%D0%B7/%D0%BD%D0%B5%D0%BF%D1%80%D0%B5%D0%B4%D0%BC%D0%B5%D1%82%D0%BD%D0%BE%D0%B5/%D1%85%D0%B0%D0%BA%D0%B0%D1%82%D0%BE%D0%BD%D1%8B/%D1%85%D0%B0%D0%BA%D0%B0%D1%82%D0%BE%D0%BD_%D0%BD%D0%B0_%D1%81%D0%B5%D0%B2%D0%B5%D1%80%D0%B5_%D0%BA%D0%BE%D0%B4%D0%B8%D1%82%D1%8C/murmansk-misty-develop/workdir/anal.ipynb#W1sZmlsZQ%3D%3D?line=12'>13</a>\u001b[0m \u001b[39m# Прогнозирование принадлежности товаров к кластерам\u001b[39;00m\n\u001b[0;32m     <a href='vscode-notebook-cell:/c%3A/Users/mrvay/Desktop/%D0%9F%D0%B0%D0%BF%D0%BA%D0%B0/%D0%B2%D1%83%D0%B7/%D0%BD%D0%B5%D0%BF%D1%80%D0%B5%D0%B4%D0%BC%D0%B5%D1%82%D0%BD%D0%BE%D0%B5/%D1%85%D0%B0%D0%BA%D0%B0%D1%82%D0%BE%D0%BD%D1%8B/%D1%85%D0%B0%D0%BA%D0%B0%D1%82%D0%BE%D0%BD_%D0%BD%D0%B0_%D1%81%D0%B5%D0%B2%D0%B5%D1%80%D0%B5_%D0%BA%D0%BE%D0%B4%D0%B8%D1%82%D1%8C/murmansk-misty-develop/workdir/anal.ipynb#W1sZmlsZQ%3D%3D?line=13'>14</a>\u001b[0m labels \u001b[39m=\u001b[39m kmeans\u001b[39m.\u001b[39mpredict(X)\n",
      "File \u001b[1;32mc:\\Users\\mrvay\\AppData\\Local\\Programs\\Python\\Python310\\lib\\site-packages\\sklearn\\cluster\\_kmeans.py:1365\u001b[0m, in \u001b[0;36mKMeans.fit\u001b[1;34m(self, X, y, sample_weight)\u001b[0m\n\u001b[0;32m   1339\u001b[0m \u001b[39mdef\u001b[39;00m \u001b[39mfit\u001b[39m(\u001b[39mself\u001b[39m, X, y\u001b[39m=\u001b[39m\u001b[39mNone\u001b[39;00m, sample_weight\u001b[39m=\u001b[39m\u001b[39mNone\u001b[39;00m):\n\u001b[0;32m   1340\u001b[0m     \u001b[39m\"\"\"Compute k-means clustering.\u001b[39;00m\n\u001b[0;32m   1341\u001b[0m \n\u001b[0;32m   1342\u001b[0m \u001b[39m    Parameters\u001b[39;00m\n\u001b[1;32m   (...)\u001b[0m\n\u001b[0;32m   1363\u001b[0m \u001b[39m        Fitted estimator.\u001b[39;00m\n\u001b[0;32m   1364\u001b[0m \u001b[39m    \"\"\"\u001b[39;00m\n\u001b[1;32m-> 1365\u001b[0m     X \u001b[39m=\u001b[39m \u001b[39mself\u001b[39;49m\u001b[39m.\u001b[39;49m_validate_data(\n\u001b[0;32m   1366\u001b[0m         X,\n\u001b[0;32m   1367\u001b[0m         accept_sparse\u001b[39m=\u001b[39;49m\u001b[39m\"\u001b[39;49m\u001b[39mcsr\u001b[39;49m\u001b[39m\"\u001b[39;49m,\n\u001b[0;32m   1368\u001b[0m         dtype\u001b[39m=\u001b[39;49m[np\u001b[39m.\u001b[39;49mfloat64, np\u001b[39m.\u001b[39;49mfloat32],\n\u001b[0;32m   1369\u001b[0m         order\u001b[39m=\u001b[39;49m\u001b[39m\"\u001b[39;49m\u001b[39mC\u001b[39;49m\u001b[39m\"\u001b[39;49m,\n\u001b[0;32m   1370\u001b[0m         copy\u001b[39m=\u001b[39;49m\u001b[39mself\u001b[39;49m\u001b[39m.\u001b[39;49mcopy_x,\n\u001b[0;32m   1371\u001b[0m         accept_large_sparse\u001b[39m=\u001b[39;49m\u001b[39mFalse\u001b[39;49;00m,\n\u001b[0;32m   1372\u001b[0m     )\n\u001b[0;32m   1374\u001b[0m     \u001b[39mself\u001b[39m\u001b[39m.\u001b[39m_check_params(X)\n\u001b[0;32m   1375\u001b[0m     random_state \u001b[39m=\u001b[39m check_random_state(\u001b[39mself\u001b[39m\u001b[39m.\u001b[39mrandom_state)\n",
      "File \u001b[1;32mc:\\Users\\mrvay\\AppData\\Local\\Programs\\Python\\Python310\\lib\\site-packages\\sklearn\\base.py:577\u001b[0m, in \u001b[0;36mBaseEstimator._validate_data\u001b[1;34m(self, X, y, reset, validate_separately, **check_params)\u001b[0m\n\u001b[0;32m    575\u001b[0m     \u001b[39mraise\u001b[39;00m \u001b[39mValueError\u001b[39;00m(\u001b[39m\"\u001b[39m\u001b[39mValidation should be done on X, y or both.\u001b[39m\u001b[39m\"\u001b[39m)\n\u001b[0;32m    576\u001b[0m \u001b[39melif\u001b[39;00m \u001b[39mnot\u001b[39;00m no_val_X \u001b[39mand\u001b[39;00m no_val_y:\n\u001b[1;32m--> 577\u001b[0m     X \u001b[39m=\u001b[39m check_array(X, input_name\u001b[39m=\u001b[39m\u001b[39m\"\u001b[39m\u001b[39mX\u001b[39m\u001b[39m\"\u001b[39m, \u001b[39m*\u001b[39m\u001b[39m*\u001b[39mcheck_params)\n\u001b[0;32m    578\u001b[0m     out \u001b[39m=\u001b[39m X\n\u001b[0;32m    579\u001b[0m \u001b[39melif\u001b[39;00m no_val_X \u001b[39mand\u001b[39;00m \u001b[39mnot\u001b[39;00m no_val_y:\n",
      "File \u001b[1;32mc:\\Users\\mrvay\\AppData\\Local\\Programs\\Python\\Python310\\lib\\site-packages\\sklearn\\utils\\validation.py:856\u001b[0m, in \u001b[0;36mcheck_array\u001b[1;34m(array, accept_sparse, accept_large_sparse, dtype, order, copy, force_all_finite, ensure_2d, allow_nd, ensure_min_samples, ensure_min_features, estimator, input_name)\u001b[0m\n\u001b[0;32m    854\u001b[0m         array \u001b[39m=\u001b[39m array\u001b[39m.\u001b[39mastype(dtype, casting\u001b[39m=\u001b[39m\u001b[39m\"\u001b[39m\u001b[39munsafe\u001b[39m\u001b[39m\"\u001b[39m, copy\u001b[39m=\u001b[39m\u001b[39mFalse\u001b[39;00m)\n\u001b[0;32m    855\u001b[0m     \u001b[39melse\u001b[39;00m:\n\u001b[1;32m--> 856\u001b[0m         array \u001b[39m=\u001b[39m np\u001b[39m.\u001b[39;49masarray(array, order\u001b[39m=\u001b[39;49morder, dtype\u001b[39m=\u001b[39;49mdtype)\n\u001b[0;32m    857\u001b[0m \u001b[39mexcept\u001b[39;00m ComplexWarning \u001b[39mas\u001b[39;00m complex_warning:\n\u001b[0;32m    858\u001b[0m     \u001b[39mraise\u001b[39;00m \u001b[39mValueError\u001b[39;00m(\n\u001b[0;32m    859\u001b[0m         \u001b[39m\"\u001b[39m\u001b[39mComplex data not supported\u001b[39m\u001b[39m\\n\u001b[39;00m\u001b[39m{}\u001b[39;00m\u001b[39m\\n\u001b[39;00m\u001b[39m\"\u001b[39m\u001b[39m.\u001b[39mformat(array)\n\u001b[0;32m    860\u001b[0m     ) \u001b[39mfrom\u001b[39;00m \u001b[39mcomplex_warning\u001b[39;00m\n",
      "File \u001b[1;32mc:\\Users\\mrvay\\AppData\\Local\\Programs\\Python\\Python310\\lib\\site-packages\\pandas\\core\\generic.py:2064\u001b[0m, in \u001b[0;36mNDFrame.__array__\u001b[1;34m(self, dtype)\u001b[0m\n\u001b[0;32m   2063\u001b[0m \u001b[39mdef\u001b[39;00m \u001b[39m__array__\u001b[39m(\u001b[39mself\u001b[39m, dtype: npt\u001b[39m.\u001b[39mDTypeLike \u001b[39m|\u001b[39m \u001b[39mNone\u001b[39;00m \u001b[39m=\u001b[39m \u001b[39mNone\u001b[39;00m) \u001b[39m-\u001b[39m\u001b[39m>\u001b[39m np\u001b[39m.\u001b[39mndarray:\n\u001b[1;32m-> 2064\u001b[0m     \u001b[39mreturn\u001b[39;00m np\u001b[39m.\u001b[39;49masarray(\u001b[39mself\u001b[39;49m\u001b[39m.\u001b[39;49m_values, dtype\u001b[39m=\u001b[39;49mdtype)\n",
      "\u001b[1;31mValueError\u001b[0m: setting an array element with a sequence."
     ]
    }
   ],
   "source": [
    "# Загрузка данных о товарах из csv файла\n",
    "data = pd.DataFrame.from_dict(data_db)\n",
    "\n",
    "# Выбор признаков для кластеризации (например, цена, размер, материал)\n",
    "X = data[[\"is_service\", \"tags\", \"price\"]]\n",
    "#  \"characteristics\", \n",
    "# Определение количества кластеров\n",
    "kmeans = KMeans(n_clusters=3)\n",
    "\n",
    "# Обучение модели на выбранных признаках\n",
    "kmeans.fit(X)\n",
    "\n",
    "# Прогнозирование принадлежности товаров к кластерам\n",
    "labels = kmeans.predict(X)\n",
    "\n",
    "# Добавление меток кластеров в исходный датасет\n",
    "data[\"cluster\"] = labels\n",
    "\n",
    "# Сохранение результатов в новый csv файл\n",
    "print(data.to_dict())"
   ]
  }
 ],
 "metadata": {
  "kernelspec": {
   "display_name": "Python 3",
   "language": "python",
   "name": "python3"
  },
  "language_info": {
   "codemirror_mode": {
    "name": "ipython",
    "version": 3
   },
   "file_extension": ".py",
   "mimetype": "text/x-python",
   "name": "python",
   "nbconvert_exporter": "python",
   "pygments_lexer": "ipython3",
   "version": "3.10.4"
  },
  "orig_nbformat": 4
 },
 "nbformat": 4,
 "nbformat_minor": 2
}
